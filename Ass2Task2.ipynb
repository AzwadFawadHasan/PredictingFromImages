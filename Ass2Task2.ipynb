{
 "cells": [
  {
   "cell_type": "markdown",
   "id": "47fe9988-7f77-4d32-ae5b-41b5af2b6284",
   "metadata": {},
   "source": [
    "#using the torchvision.models module to load the pre-trained VGG-16 model."
   ]
  },
  {
   "cell_type": "code",
   "execution_count": 1,
   "id": "a4a72e32-69c7-47db-914d-5aeb0eb20871",
   "metadata": {},
   "outputs": [],
   "source": [
    "import torch\n",
    "import torch.nn as nn\n",
    "import torch.optim as optim\n",
    "import torchvision\n",
    "import torchvision.transforms as transforms\n",
    "import matplotlib.pyplot as plt\n"
   ]
  },
  {
   "cell_type": "code",
   "execution_count": 2,
   "id": "9d71732d-9523-4e24-bcbf-ae3266889e66",
   "metadata": {},
   "outputs": [
    {
     "name": "stdout",
     "output_type": "stream",
     "text": [
      "Using device: cuda\n"
     ]
    }
   ],
   "source": [
    "# Check if GPU is available\n",
    "device = torch.device(\"cuda\" if torch.cuda.is_available() else \"cpu\")\n",
    "print(\"Using device:\", device)"
   ]
  },
  {
   "cell_type": "code",
   "execution_count": 3,
   "id": "fb5ebd56-7854-4453-add6-b2e38465c9a8",
   "metadata": {},
   "outputs": [],
   "source": [
    "# Data augmentation and normalization for training\n",
    "transform_train = transforms.Compose([\n",
    "    transforms.RandomRotation(20),\n",
    "    transforms.RandomHorizontalFlip(),\n",
    "    transforms.RandomVerticalFlip(),\n",
    "    transforms.RandomResizedCrop(32, scale=(0.8, 1.0)),\n",
    "    transforms.ToTensor(),\n",
    "    transforms.Normalize((0.5, 0.5, 0.5), (0.5, 0.5, 0.5)),\n",
    "])"
   ]
  },
  {
   "cell_type": "code",
   "execution_count": 4,
   "id": "91ec52e7-d8f9-4f0d-b494-1b16c47c698d",
   "metadata": {},
   "outputs": [],
   "source": [
    "# Just normalization for validation\n",
    "transform_test = transforms.Compose([\n",
    "    transforms.ToTensor(),\n",
    "    transforms.Normalize((0.5, 0.5, 0.5), (0.5, 0.5, 0.5)),\n",
    "])\n"
   ]
  },
  {
   "cell_type": "code",
   "execution_count": 5,
   "id": "61f68946-c46c-4e28-98dd-bcb8856718d9",
   "metadata": {},
   "outputs": [
    {
     "name": "stdout",
     "output_type": "stream",
     "text": [
      "Downloading https://www.cs.toronto.edu/~kriz/cifar-100-python.tar.gz to ./data\\cifar-100-python.tar.gz\n"
     ]
    },
    {
     "name": "stderr",
     "output_type": "stream",
     "text": [
      "100.0%\n"
     ]
    },
    {
     "name": "stdout",
     "output_type": "stream",
     "text": [
      "Extracting ./data\\cifar-100-python.tar.gz to ./data\n",
      "Files already downloaded and verified\n"
     ]
    }
   ],
   "source": [
    "# Load CIFAR-100 dataset\n",
    "#the_dataset = cifar100.load_data()\n",
    "trainset = torchvision.datasets.CIFAR100(root='./data', train=True,\n",
    "                                         download=True, transform=transform_train)\n",
    "trainloader = torch.utils.data.DataLoader(trainset, batch_size=64,\n",
    "                                          shuffle=True, num_workers=2)\n",
    "\n",
    "testset = torchvision.datasets.CIFAR100(root='./data', train=False,\n",
    "                                        download=True, transform=transform_test)\n",
    "testloader = torch.utils.data.DataLoader(testset, batch_size=64,\n",
    "                                         shuffle=False, num_workers=2)"
   ]
  },
  {
   "cell_type": "code",
   "execution_count": 6,
   "id": "695f777b-53c4-4452-b136-fda257f9e914",
   "metadata": {},
   "outputs": [
    {
     "name": "stderr",
     "output_type": "stream",
     "text": [
      "C:\\Users\\dellG15\\Documents\\globalGpuEnvironmentForUse\\myNewVenv\\lib\\site-packages\\torchvision\\models\\_utils.py:208: UserWarning: The parameter 'pretrained' is deprecated since 0.13 and may be removed in the future, please use 'weights' instead.\n",
      "  warnings.warn(\n",
      "C:\\Users\\dellG15\\Documents\\globalGpuEnvironmentForUse\\myNewVenv\\lib\\site-packages\\torchvision\\models\\_utils.py:223: UserWarning: Arguments other than a weight enum or `None` for 'weights' are deprecated since 0.13 and may be removed in the future. The current behavior is equivalent to passing `weights=VGG16_Weights.IMAGENET1K_V1`. You can also use `weights=VGG16_Weights.DEFAULT` to get the most up-to-date weights.\n",
      "  warnings.warn(msg)\n",
      "Downloading: \"https://download.pytorch.org/models/vgg16-397923af.pth\" to C:\\Users\\dellG15/.cache\\torch\\hub\\checkpoints\\vgg16-397923af.pth\n",
      "100.0%\n"
     ]
    }
   ],
   "source": [
    "# Load pre-trained VGG-16 model\n",
    "model = torchvision.models.vgg16(pretrained=True)"
   ]
  },
  {
   "cell_type": "code",
   "execution_count": 8,
   "id": "c93616cf-357d-405a-b31b-59ed31367d4a",
   "metadata": {},
   "outputs": [],
   "source": [
    "# Modify the classifier to fit CIFAR-100\n",
    "model.classifier[6] = nn.Linear(4096, 100)\n",
    "# Move the model to the GPU\n",
    "model = model.to(device)"
   ]
  },
  {
   "cell_type": "code",
   "execution_count": 9,
   "id": "19feacd8-56e3-40ef-bda3-fda0bb993ab3",
   "metadata": {},
   "outputs": [],
   "source": [
    "# Freeze initial layers\n",
    "for param in model.features.parameters():\n",
    "    param.requires_grad = False"
   ]
  },
  {
   "cell_type": "code",
   "execution_count": 10,
   "id": "7252e7bd-c221-42de-a9c8-29c48034c32f",
   "metadata": {},
   "outputs": [],
   "source": [
    "# Define loss function and optimizer\n",
    "criterion = nn.CrossEntropyLoss()\n",
    "optimizer = optim.Adam(model.classifier.parameters(), lr=0.0001)"
   ]
  },
  {
   "cell_type": "code",
   "execution_count": 13,
   "id": "480680bc-3c14-48c9-a2b3-e4c5fbb446d3",
   "metadata": {},
   "outputs": [],
   "source": [
    "# Training function\n",
    "def train(model, criterion, optimizer, trainloader, device):\n",
    "    model.train()\n",
    "    running_loss = 0.0\n",
    "    correct = 0\n",
    "    total = 0\n",
    "    for inputs, labels in trainloader:\n",
    "        inputs, labels = inputs.to(device), labels.to(device)\n",
    "\n",
    "        optimizer.zero_grad()\n",
    "        outputs = model(inputs)\n",
    "        loss = criterion(outputs, labels)\n",
    "        loss.backward()\n",
    "        optimizer.step()\n",
    "\n",
    "        running_loss += loss.item() * inputs.size(0)\n",
    "        _, predicted = outputs.max(1)\n",
    "        total += labels.size(0)\n",
    "        correct += predicted.eq(labels).sum().item()\n",
    "\n",
    "    epoch_loss = running_loss / len(trainloader.dataset)\n",
    "    epoch_acc = correct / total\n",
    "    return epoch_loss, epoch_acc\n"
   ]
  },
  {
   "cell_type": "code",
   "execution_count": 14,
   "id": "371277bb-0a8c-47c1-988f-240b1423dac2",
   "metadata": {},
   "outputs": [],
   "source": [
    "# Evaluation function\n",
    "def evaluate(model, criterion, testloader, device):\n",
    "    model.eval()\n",
    "    running_loss = 0.0\n",
    "    correct = 0\n",
    "    total = 0\n",
    "    with torch.no_grad():\n",
    "        for inputs, labels in testloader:\n",
    "            inputs, labels = inputs.to(device), labels.to(device)\n",
    "\n",
    "            outputs = model(inputs)\n",
    "            loss = criterion(outputs, labels)\n",
    "\n",
    "            running_loss += loss.item() * inputs.size(0)\n",
    "            _, predicted = outputs.max(1)\n",
    "            total += labels.size(0)\n",
    "            correct += predicted.eq(labels).sum().item()\n",
    "\n",
    "    epoch_loss = running_loss / len(testloader.dataset)\n",
    "    epoch_acc = correct / total\n",
    "    return epoch_loss, epoch_acc"
   ]
  },
  {
   "cell_type": "code",
   "execution_count": 16,
   "id": "56336396-a496-4078-bb74-79ed9d8bc83f",
   "metadata": {},
   "outputs": [
    {
     "name": "stdout",
     "output_type": "stream",
     "text": [
      "Epoch 1/100, Train Loss: 3.4675, Train Acc: 0.1798, Val Loss: 2.7620, Val Acc: 0.2971\n",
      "Epoch 2/100, Train Loss: 3.1209, Train Acc: 0.2326, Val Loss: 2.6241, Val Acc: 0.3258\n",
      "Epoch 3/100, Train Loss: 3.0097, Train Acc: 0.2518, Val Loss: 2.5531, Val Acc: 0.3352\n",
      "Epoch 4/100, Train Loss: 2.9558, Train Acc: 0.2633, Val Loss: 2.5225, Val Acc: 0.3469\n",
      "Epoch 5/100, Train Loss: 2.9056, Train Acc: 0.2723, Val Loss: 2.5100, Val Acc: 0.3537\n",
      "Epoch 6/100, Train Loss: 2.8813, Train Acc: 0.2780, Val Loss: 2.4927, Val Acc: 0.3574\n",
      "Epoch 7/100, Train Loss: 2.8542, Train Acc: 0.2823, Val Loss: 2.4534, Val Acc: 0.3619\n",
      "Epoch 8/100, Train Loss: 2.8304, Train Acc: 0.2864, Val Loss: 2.4677, Val Acc: 0.3576\n",
      "Epoch 9/100, Train Loss: 2.8089, Train Acc: 0.2919, Val Loss: 2.4553, Val Acc: 0.3617\n",
      "Epoch 10/100, Train Loss: 2.7860, Train Acc: 0.2961, Val Loss: 2.4454, Val Acc: 0.3663\n",
      "Epoch 11/100, Train Loss: 2.7880, Train Acc: 0.2940, Val Loss: 2.4307, Val Acc: 0.3726\n",
      "Epoch 12/100, Train Loss: 2.7712, Train Acc: 0.2980, Val Loss: 2.4377, Val Acc: 0.3664\n",
      "Epoch 13/100, Train Loss: 2.7540, Train Acc: 0.3016, Val Loss: 2.4393, Val Acc: 0.3719\n",
      "Epoch 14/100, Train Loss: 2.7447, Train Acc: 0.3031, Val Loss: 2.4301, Val Acc: 0.3770\n",
      "Epoch 15/100, Train Loss: 2.7416, Train Acc: 0.3038, Val Loss: 2.4222, Val Acc: 0.3702\n",
      "Epoch 16/100, Train Loss: 2.7270, Train Acc: 0.3073, Val Loss: 2.4004, Val Acc: 0.3812\n",
      "Epoch 17/100, Train Loss: 2.7223, Train Acc: 0.3100, Val Loss: 2.4121, Val Acc: 0.3856\n",
      "Epoch 18/100, Train Loss: 2.7113, Train Acc: 0.3071, Val Loss: 2.4271, Val Acc: 0.3762\n",
      "Epoch 19/100, Train Loss: 2.7118, Train Acc: 0.3091, Val Loss: 2.4065, Val Acc: 0.3810\n",
      "Epoch 20/100, Train Loss: 2.6929, Train Acc: 0.3143, Val Loss: 2.4004, Val Acc: 0.3775\n",
      "Epoch 21/100, Train Loss: 2.6892, Train Acc: 0.3137, Val Loss: 2.4093, Val Acc: 0.3830\n",
      "Epoch 22/100, Train Loss: 2.6924, Train Acc: 0.3145, Val Loss: 2.4049, Val Acc: 0.3782\n",
      "Epoch 23/100, Train Loss: 2.6935, Train Acc: 0.3126, Val Loss: 2.4101, Val Acc: 0.3788\n",
      "Epoch 24/100, Train Loss: 2.6879, Train Acc: 0.3183, Val Loss: 2.4151, Val Acc: 0.3804\n",
      "Epoch 25/100, Train Loss: 2.6812, Train Acc: 0.3169, Val Loss: 2.4029, Val Acc: 0.3821\n",
      "Epoch 26/100, Train Loss: 2.6697, Train Acc: 0.3175, Val Loss: 2.4159, Val Acc: 0.3793\n",
      "Epoch 27/100, Train Loss: 2.6738, Train Acc: 0.3181, Val Loss: 2.4119, Val Acc: 0.3813\n",
      "Epoch 28/100, Train Loss: 2.6671, Train Acc: 0.3199, Val Loss: 2.4242, Val Acc: 0.3809\n",
      "Epoch 29/100, Train Loss: 2.6715, Train Acc: 0.3214, Val Loss: 2.4350, Val Acc: 0.3856\n",
      "Epoch 30/100, Train Loss: 2.6650, Train Acc: 0.3184, Val Loss: 2.4129, Val Acc: 0.3862\n",
      "Epoch 31/100, Train Loss: 2.6648, Train Acc: 0.3214, Val Loss: 2.4196, Val Acc: 0.3863\n",
      "Epoch 32/100, Train Loss: 2.6645, Train Acc: 0.3227, Val Loss: 2.4292, Val Acc: 0.3808\n",
      "Epoch 33/100, Train Loss: 2.6633, Train Acc: 0.3221, Val Loss: 2.4278, Val Acc: 0.3840\n",
      "Epoch 34/100, Train Loss: 2.6551, Train Acc: 0.3217, Val Loss: 2.4345, Val Acc: 0.3850\n",
      "Epoch 35/100, Train Loss: 2.6589, Train Acc: 0.3233, Val Loss: 2.4213, Val Acc: 0.3799\n",
      "Epoch 36/100, Train Loss: 2.6557, Train Acc: 0.3235, Val Loss: 2.4301, Val Acc: 0.3839\n",
      "Epoch 37/100, Train Loss: 2.6537, Train Acc: 0.3207, Val Loss: 2.4242, Val Acc: 0.3848\n",
      "Epoch 38/100, Train Loss: 2.6661, Train Acc: 0.3231, Val Loss: 2.4449, Val Acc: 0.3799\n",
      "Epoch 39/100, Train Loss: 2.6424, Train Acc: 0.3263, Val Loss: 2.4343, Val Acc: 0.3823\n",
      "Epoch 40/100, Train Loss: 2.6481, Train Acc: 0.3226, Val Loss: 2.4326, Val Acc: 0.3832\n",
      "Epoch 41/100, Train Loss: 2.6586, Train Acc: 0.3246, Val Loss: 2.4409, Val Acc: 0.3836\n",
      "Epoch 42/100, Train Loss: 2.6519, Train Acc: 0.3246, Val Loss: 2.4406, Val Acc: 0.3851\n",
      "Epoch 43/100, Train Loss: 2.6597, Train Acc: 0.3207, Val Loss: 2.4395, Val Acc: 0.3837\n",
      "Epoch 44/100, Train Loss: 2.6522, Train Acc: 0.3266, Val Loss: 2.4541, Val Acc: 0.3844\n",
      "Epoch 45/100, Train Loss: 2.6657, Train Acc: 0.3219, Val Loss: 2.4433, Val Acc: 0.3813\n",
      "Epoch 46/100, Train Loss: 2.6525, Train Acc: 0.3230, Val Loss: 2.4530, Val Acc: 0.3786\n",
      "Epoch 47/100, Train Loss: 2.6527, Train Acc: 0.3231, Val Loss: 2.4518, Val Acc: 0.3810\n",
      "Epoch 48/100, Train Loss: 2.6515, Train Acc: 0.3263, Val Loss: 2.4645, Val Acc: 0.3812\n",
      "Epoch 49/100, Train Loss: 2.6539, Train Acc: 0.3239, Val Loss: 2.4446, Val Acc: 0.3854\n",
      "Epoch 50/100, Train Loss: 2.6526, Train Acc: 0.3247, Val Loss: 2.4584, Val Acc: 0.3812\n",
      "Epoch 51/100, Train Loss: 2.6473, Train Acc: 0.3274, Val Loss: 2.4572, Val Acc: 0.3845\n",
      "Epoch 52/100, Train Loss: 2.6487, Train Acc: 0.3244, Val Loss: 2.4590, Val Acc: 0.3857\n",
      "Epoch 53/100, Train Loss: 2.6538, Train Acc: 0.3261, Val Loss: 2.4580, Val Acc: 0.3804\n",
      "Epoch 54/100, Train Loss: 2.6493, Train Acc: 0.3286, Val Loss: 2.4512, Val Acc: 0.3820\n",
      "Epoch 55/100, Train Loss: 2.6549, Train Acc: 0.3262, Val Loss: 2.4657, Val Acc: 0.3835\n",
      "Epoch 56/100, Train Loss: 2.6553, Train Acc: 0.3251, Val Loss: 2.4591, Val Acc: 0.3781\n",
      "Epoch 57/100, Train Loss: 2.6549, Train Acc: 0.3238, Val Loss: 2.4567, Val Acc: 0.3799\n",
      "Epoch 58/100, Train Loss: 2.6595, Train Acc: 0.3267, Val Loss: 2.4856, Val Acc: 0.3827\n",
      "Epoch 59/100, Train Loss: 2.6482, Train Acc: 0.3283, Val Loss: 2.4792, Val Acc: 0.3798\n",
      "Epoch 60/100, Train Loss: 2.6602, Train Acc: 0.3263, Val Loss: 2.4642, Val Acc: 0.3807\n",
      "Epoch 61/100, Train Loss: 2.6625, Train Acc: 0.3260, Val Loss: 2.4732, Val Acc: 0.3850\n",
      "Epoch 62/100, Train Loss: 2.6433, Train Acc: 0.3263, Val Loss: 2.4504, Val Acc: 0.3832\n",
      "Epoch 63/100, Train Loss: 2.6674, Train Acc: 0.3247, Val Loss: 2.4635, Val Acc: 0.3850\n",
      "Epoch 64/100, Train Loss: 2.6626, Train Acc: 0.3278, Val Loss: 2.4594, Val Acc: 0.3842\n",
      "Epoch 65/100, Train Loss: 2.6644, Train Acc: 0.3247, Val Loss: 2.4578, Val Acc: 0.3853\n",
      "Epoch 66/100, Train Loss: 2.6466, Train Acc: 0.3299, Val Loss: 2.4433, Val Acc: 0.3879\n",
      "Epoch 67/100, Train Loss: 2.6624, Train Acc: 0.3268, Val Loss: 2.4624, Val Acc: 0.3815\n",
      "Epoch 68/100, Train Loss: 2.6613, Train Acc: 0.3244, Val Loss: 2.4483, Val Acc: 0.3861\n",
      "Epoch 69/100, Train Loss: 2.6692, Train Acc: 0.3254, Val Loss: 2.4808, Val Acc: 0.3787\n",
      "Epoch 70/100, Train Loss: 2.6737, Train Acc: 0.3244, Val Loss: 2.4923, Val Acc: 0.3818\n",
      "Epoch 71/100, Train Loss: 2.6765, Train Acc: 0.3254, Val Loss: 2.4770, Val Acc: 0.3811\n",
      "Epoch 72/100, Train Loss: 2.6709, Train Acc: 0.3244, Val Loss: 2.4793, Val Acc: 0.3833\n",
      "Epoch 73/100, Train Loss: 2.6680, Train Acc: 0.3258, Val Loss: 2.4683, Val Acc: 0.3814\n",
      "Epoch 74/100, Train Loss: 2.6695, Train Acc: 0.3272, Val Loss: 2.4734, Val Acc: 0.3788\n",
      "Epoch 75/100, Train Loss: 2.6663, Train Acc: 0.3255, Val Loss: 2.4549, Val Acc: 0.3801\n",
      "Epoch 76/100, Train Loss: 2.6696, Train Acc: 0.3246, Val Loss: 2.4729, Val Acc: 0.3807\n",
      "Epoch 77/100, Train Loss: 2.6648, Train Acc: 0.3290, Val Loss: 2.4886, Val Acc: 0.3821\n",
      "Epoch 78/100, Train Loss: 2.6740, Train Acc: 0.3255, Val Loss: 2.4809, Val Acc: 0.3829\n",
      "Epoch 79/100, Train Loss: 2.6668, Train Acc: 0.3277, Val Loss: 2.4523, Val Acc: 0.3823\n",
      "Epoch 80/100, Train Loss: 2.6641, Train Acc: 0.3257, Val Loss: 2.4715, Val Acc: 0.3827\n",
      "Epoch 81/100, Train Loss: 2.6796, Train Acc: 0.3248, Val Loss: 2.4705, Val Acc: 0.3809\n",
      "Epoch 82/100, Train Loss: 2.6635, Train Acc: 0.3274, Val Loss: 2.4829, Val Acc: 0.3857\n",
      "Epoch 83/100, Train Loss: 2.6867, Train Acc: 0.3251, Val Loss: 2.4996, Val Acc: 0.3811\n",
      "Epoch 84/100, Train Loss: 2.6651, Train Acc: 0.3281, Val Loss: 2.4823, Val Acc: 0.3837\n",
      "Epoch 85/100, Train Loss: 2.6759, Train Acc: 0.3241, Val Loss: 2.4680, Val Acc: 0.3813\n",
      "Epoch 86/100, Train Loss: 2.6743, Train Acc: 0.3268, Val Loss: 2.4872, Val Acc: 0.3815\n",
      "Epoch 87/100, Train Loss: 2.6764, Train Acc: 0.3279, Val Loss: 2.4874, Val Acc: 0.3799\n",
      "Epoch 88/100, Train Loss: 2.6870, Train Acc: 0.3238, Val Loss: 2.4770, Val Acc: 0.3836\n",
      "Epoch 89/100, Train Loss: 2.6798, Train Acc: 0.3275, Val Loss: 2.4815, Val Acc: 0.3854\n",
      "Epoch 90/100, Train Loss: 2.6824, Train Acc: 0.3255, Val Loss: 2.4748, Val Acc: 0.3882\n",
      "Epoch 91/100, Train Loss: 2.6760, Train Acc: 0.3249, Val Loss: 2.4687, Val Acc: 0.3856\n",
      "Epoch 92/100, Train Loss: 2.6864, Train Acc: 0.3259, Val Loss: 2.4943, Val Acc: 0.3815\n",
      "Epoch 93/100, Train Loss: 2.6964, Train Acc: 0.3235, Val Loss: 2.4749, Val Acc: 0.3867\n",
      "Epoch 94/100, Train Loss: 2.6887, Train Acc: 0.3267, Val Loss: 2.4767, Val Acc: 0.3862\n",
      "Epoch 95/100, Train Loss: 2.6870, Train Acc: 0.3233, Val Loss: 2.4666, Val Acc: 0.3836\n",
      "Epoch 96/100, Train Loss: 2.6973, Train Acc: 0.3212, Val Loss: 2.4851, Val Acc: 0.3842\n",
      "Epoch 97/100, Train Loss: 2.6843, Train Acc: 0.3272, Val Loss: 2.4931, Val Acc: 0.3874\n",
      "Epoch 98/100, Train Loss: 2.6815, Train Acc: 0.3252, Val Loss: 2.5101, Val Acc: 0.3824\n",
      "Epoch 99/100, Train Loss: 2.6947, Train Acc: 0.3224, Val Loss: 2.4909, Val Acc: 0.3807\n",
      "Epoch 100/100, Train Loss: 2.6872, Train Acc: 0.3259, Val Loss: 2.4932, Val Acc: 0.3805\n"
     ]
    },
    {
     "data": {
      "image/png": "[encoded data removed]",
      "text/plain": [
       "<Figure size 1200x400 with 2 Axes>"
      ]
     },
     "metadata": {},
     "output_type": "display_data"
    },
    {
     "name": "stdout",
     "output_type": "stream",
     "text": [
      "Test accuracy: 0.3805\n"
     ]
    }
   ],
   "source": [
    "# Train and evaluate the model\n",
    "num_epochs = 100\n",
    "train_losses, train_accuracies = [], []\n",
    "val_losses, val_accuracies = [], []\n",
    "\n",
    "for epoch in range(num_epochs):\n",
    "    train_loss, train_acc = train(model, criterion, optimizer, trainloader, device)\n",
    "    val_loss, val_acc = evaluate(model, criterion, testloader, device)\n",
    "\n",
    "    train_losses.append(train_loss)\n",
    "    train_accuracies.append(train_acc)\n",
    "    val_losses.append(val_loss)\n",
    "    val_accuracies.append(val_acc)\n",
    "\n",
    "    print(f'Epoch {epoch+1}/{num_epochs}, Train Loss: {train_loss:.4f}, Train Acc: {train_acc:.4f}, Val Loss: {val_loss:.4f}, Val Acc: {val_acc:.4f}')\n",
    "\n",
    "\n",
    "# Plot training & validation accuracy values\n",
    "plt.figure(figsize=(12, 4))\n",
    "plt.subplot(1, 2, 1)\n",
    "plt.plot(train_accuracies, label='Train Accuracy')\n",
    "plt.plot(val_accuracies, label='Validation Accuracy')\n",
    "plt.title('Model accuracy')\n",
    "plt.ylabel('Accuracy')\n",
    "plt.xlabel('Epoch')\n",
    "plt.legend(['Train', 'Validation'], loc='upper left')\n",
    "\n",
    "# Plot training & validation loss values\n",
    "plt.subplot(1, 2, 2)\n",
    "plt.plot(train_losses, label='Train Loss')\n",
    "plt.plot(val_losses, label='Validation Loss')\n",
    "plt.title('Model loss')\n",
    "plt.ylabel('Loss')\n",
    "plt.xlabel('Epoch')\n",
    "plt.legend(['Train', 'Validation'], loc='upper left')\n",
    "\n",
    "plt.show()\n",
    "\n",
    "# Evaluate the model on the test data\n",
    "test_loss, test_acc = evaluate(model, criterion, testloader, device)\n",
    "print(f'Test accuracy: {test_acc}')\n",
    "\n",
    "# Save the model\n",
    "torch.save(model.state_dict(), 'vgg16_cifar100_finetuned.pth')"
   ]
  },
  {
   "cell_type": "code",
   "execution_count": null,
   "id": "73223add-c1b0-4912-85c1-a00de3bdc596",
   "metadata": {},
   "outputs": [],
   "source": []
  }
 ],
 "metadata": {
  "kernelspec": {
   "display_name": "Python 3 (ipykernel)",
   "language": "python",
   "name": "python3"
  },
  "language_info": {
   "codemirror_mode": {
    "name": "ipython",
    "version": 3
   },
   "file_extension": ".py",
   "mimetype": "text/x-python",
   "name": "python",
   "nbconvert_exporter": "python",
   "pygments_lexer": "ipython3",
   "version": "3.10.5"
  }
 },
 "nbformat": 4,
 "nbformat_minor": 5
}
