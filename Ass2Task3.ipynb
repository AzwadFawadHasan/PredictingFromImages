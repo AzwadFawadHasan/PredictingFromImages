{
 "cells": [
  {
   "cell_type": "code",
   "execution_count": 1,
   "id": "5c5ba210-914f-4732-9d00-9091df8f608b",
   "metadata": {},
   "outputs": [],
   "source": [
    "import torch\n",
    "import torch.nn as nn\n",
    "import torch.optim as optim\n",
    "import torchvision\n",
    "import torchvision.transforms as transforms\n",
    "import matplotlib.pyplot as plt\n"
   ]
  },
  {
   "cell_type": "code",
   "execution_count": 2,
   "id": "a4759a9e-7474-499b-860e-2bfa452d7396",
   "metadata": {},
   "outputs": [
    {
     "name": "stdout",
     "output_type": "stream",
     "text": [
      "Using device: cuda\n"
     ]
    }
   ],
   "source": [
    "# Check if GPU is available\n",
    "device = torch.device(\"cuda\" if torch.cuda.is_available() else \"cpu\")\n",
    "print(\"Using device:\", device)"
   ]
  },
  {
   "cell_type": "code",
   "execution_count": 3,
   "id": "b5094004-dc3c-40f0-ba87-90ce9d78f655",
   "metadata": {},
   "outputs": [],
   "source": [
    "# Data augmentation and normalization for training\n",
    "transform_train = transforms.Compose([\n",
    "    transforms.RandomRotation(20),\n",
    "    transforms.RandomHorizontalFlip(),\n",
    "    transforms.RandomVerticalFlip(),\n",
    "    transforms.RandomResizedCrop(32, scale=(0.8, 1.0)),\n",
    "    transforms.ToTensor(),\n",
    "    transforms.Normalize((0.5, 0.5, 0.5), (0.5, 0.5, 0.5)),\n",
    "])\n"
   ]
  },
  {
   "cell_type": "code",
   "execution_count": 4,
   "id": "bd23c317-fe0f-4931-9dca-31b3cd3be95b",
   "metadata": {},
   "outputs": [],
   "source": [
    "# Just normalization for validation\n",
    "transform_test = transforms.Compose([\n",
    "    transforms.ToTensor(),\n",
    "    transforms.Normalize((0.5, 0.5, 0.5), (0.5, 0.5, 0.5)),\n",
    "])\n"
   ]
  },
  {
   "cell_type": "code",
   "execution_count": 5,
   "id": "283a89f1-4b34-47b0-abee-c4eb45f46078",
   "metadata": {},
   "outputs": [
    {
     "name": "stdout",
     "output_type": "stream",
     "text": [
      "Files already downloaded and verified\n",
      "Files already downloaded and verified\n"
     ]
    }
   ],
   "source": [
    "# Load CIFAR-100 dataset\n",
    "trainset = torchvision.datasets.CIFAR100(root='./data', train=True,\n",
    "                                         download=True, transform=transform_train)\n",
    "trainloader = torch.utils.data.DataLoader(trainset, batch_size=64,\n",
    "                                          shuffle=True, num_workers=2)\n",
    "\n",
    "testset = torchvision.datasets.CIFAR100(root='./data', train=False,\n",
    "                                        download=True, transform=transform_test)\n",
    "testloader = torch.utils.data.DataLoader(testset, batch_size=64,\n",
    "                                         shuffle=False, num_workers=2)"
   ]
  },
  {
   "cell_type": "code",
   "execution_count": 6,
   "id": "1a07b04f-f8c6-4e0a-881a-7c4c05d925df",
   "metadata": {},
   "outputs": [
    {
     "name": "stderr",
     "output_type": "stream",
     "text": [
      "C:\\Users\\dellG15\\Documents\\globalGpuEnvironmentForUse\\myNewVenv\\lib\\site-packages\\torchvision\\models\\_utils.py:208: UserWarning: The parameter 'pretrained' is deprecated since 0.13 and may be removed in the future, please use 'weights' instead.\n",
      "  warnings.warn(\n",
      "C:\\Users\\dellG15\\Documents\\globalGpuEnvironmentForUse\\myNewVenv\\lib\\site-packages\\torchvision\\models\\_utils.py:223: UserWarning: Arguments other than a weight enum or `None` for 'weights' are deprecated since 0.13 and may be removed in the future. The current behavior is equivalent to passing `weights=VGG16_Weights.IMAGENET1K_V1`. You can also use `weights=VGG16_Weights.DEFAULT` to get the most up-to-date weights.\n",
      "  warnings.warn(msg)\n"
     ]
    }
   ],
   "source": [
    "# Load pre-trained VGG-16 model\n",
    "model = torchvision.models.vgg16(pretrained=True)"
   ]
  },
  {
   "cell_type": "code",
   "execution_count": 7,
   "id": "22c311c2-4f75-4211-9d28-318f4d259274",
   "metadata": {},
   "outputs": [],
   "source": [
    "# Modify the classifier to fit CIFAR-100\n",
    "model.classifier[6] = nn.Linear(4096, 100)"
   ]
  },
  {
   "cell_type": "code",
   "execution_count": 8,
   "id": "6ad5a1bc-5ab4-4648-a9e8-16da0a4d8a14",
   "metadata": {},
   "outputs": [],
   "source": [
    "# Move the model to the GPU\n",
    "model = model.to(device)"
   ]
  },
  {
   "cell_type": "code",
   "execution_count": 9,
   "id": "8d6f4cf7-0ee6-46ac-af26-f24e38c2a1ab",
   "metadata": {},
   "outputs": [],
   "source": [
    "# Freeze all convolutional layers\n",
    "for param in model.features.parameters():\n",
    "    param.requires_grad = False"
   ]
  },
  {
   "cell_type": "code",
   "execution_count": 10,
   "id": "268c402f-6a64-4b50-80c8-1eeba19dba1f",
   "metadata": {},
   "outputs": [],
   "source": [
    "# Define loss function and optimizer\n",
    "criterion = nn.CrossEntropyLoss()\n",
    "optimizer = optim.Adam(model.classifier.parameters(), lr=0.0001)"
   ]
  },
  {
   "cell_type": "code",
   "execution_count": 11,
   "id": "a3c42689-e6da-4e34-a1ee-9a233780924c",
   "metadata": {},
   "outputs": [],
   "source": [
    "# Training function\n",
    "def train(model, criterion, optimizer, trainloader, device):\n",
    "    model.train()\n",
    "    running_loss = 0.0\n",
    "    correct = 0\n",
    "    total = 0\n",
    "    for inputs, labels in trainloader:\n",
    "        inputs, labels = inputs.to(device), labels.to(device)\n",
    "\n",
    "        optimizer.zero_grad()\n",
    "        outputs = model(inputs)\n",
    "        loss = criterion(outputs, labels)\n",
    "        loss.backward()\n",
    "        optimizer.step()\n",
    "\n",
    "        running_loss += loss.item() * inputs.size(0)\n",
    "        _, predicted = outputs.max(1)\n",
    "        total += labels.size(0)\n",
    "        correct += predicted.eq(labels).sum().item()\n",
    "\n",
    "    epoch_loss = running_loss / len(trainloader.dataset)\n",
    "    epoch_acc = correct / total\n",
    "    return epoch_loss, epoch_acc\n"
   ]
  },
  {
   "cell_type": "code",
   "execution_count": 13,
   "id": "07365533-7312-4dd0-8f1b-6f1d7ab89eea",
   "metadata": {},
   "outputs": [],
   "source": [
    "# Evaluation function\n",
    "def evaluate(model, criterion, testloader, device):\n",
    "    model.eval()\n",
    "    running_loss = 0.0\n",
    "    correct = 0\n",
    "    total = 0\n",
    "    with torch.no_grad():\n",
    "        for inputs, labels in testloader:\n",
    "            inputs, labels = inputs.to(device), labels.to(device)\n",
    "\n",
    "            outputs = model(inputs)\n",
    "            loss = criterion(outputs, labels)\n",
    "\n",
    "            running_loss += loss.item() * inputs.size(0)\n",
    "            _, predicted = outputs.max(1)\n",
    "            total += labels.size(0)\n",
    "            correct += predicted.eq(labels).sum().item()\n",
    "\n",
    "    epoch_loss = running_loss / len(testloader.dataset)\n",
    "    epoch_acc = correct / total\n",
    "    return epoch_loss, epoch_acc"
   ]
  },
  {
   "cell_type": "code",
   "execution_count": 14,
   "id": "76aea447-8c92-4160-8707-17c5e5556616",
   "metadata": {},
   "outputs": [
    {
     "name": "stdout",
     "output_type": "stream",
     "text": [
      "Epoch 1/20, Train Loss: 3.4761, Train Acc: 0.1805, Val Loss: 2.7283, Val Acc: 0.3075\n",
      "Epoch 2/20, Train Loss: 3.1131, Train Acc: 0.2356, Val Loss: 2.6309, Val Acc: 0.3231\n",
      "Epoch 3/20, Train Loss: 3.0137, Train Acc: 0.2534, Val Loss: 2.5914, Val Acc: 0.3285\n",
      "Epoch 4/20, Train Loss: 2.9519, Train Acc: 0.2638, Val Loss: 2.5134, Val Acc: 0.3444\n",
      "Epoch 5/20, Train Loss: 2.9121, Train Acc: 0.2735, Val Loss: 2.4746, Val Acc: 0.3604\n",
      "Epoch 6/20, Train Loss: 2.8762, Train Acc: 0.2760, Val Loss: 2.4915, Val Acc: 0.3532\n",
      "Epoch 7/20, Train Loss: 2.8454, Train Acc: 0.2840, Val Loss: 2.4447, Val Acc: 0.3636\n",
      "Epoch 8/20, Train Loss: 2.8360, Train Acc: 0.2856, Val Loss: 2.4359, Val Acc: 0.3643\n",
      "Epoch 9/20, Train Loss: 2.8074, Train Acc: 0.2907, Val Loss: 2.4241, Val Acc: 0.3714\n",
      "Epoch 10/20, Train Loss: 2.7897, Train Acc: 0.2952, Val Loss: 2.4278, Val Acc: 0.3702\n",
      "Epoch 11/20, Train Loss: 2.7776, Train Acc: 0.2970, Val Loss: 2.4184, Val Acc: 0.3673\n",
      "Epoch 12/20, Train Loss: 2.7752, Train Acc: 0.2982, Val Loss: 2.4411, Val Acc: 0.3676\n",
      "Epoch 13/20, Train Loss: 2.7556, Train Acc: 0.2993, Val Loss: 2.4230, Val Acc: 0.3692\n",
      "Epoch 14/20, Train Loss: 2.7590, Train Acc: 0.3007, Val Loss: 2.4360, Val Acc: 0.3742\n",
      "Epoch 15/20, Train Loss: 2.7471, Train Acc: 0.3033, Val Loss: 2.4184, Val Acc: 0.3727\n",
      "Epoch 16/20, Train Loss: 2.7336, Train Acc: 0.3065, Val Loss: 2.4110, Val Acc: 0.3817\n",
      "Epoch 17/20, Train Loss: 2.7123, Train Acc: 0.3090, Val Loss: 2.4115, Val Acc: 0.3792\n",
      "Epoch 18/20, Train Loss: 2.7159, Train Acc: 0.3092, Val Loss: 2.4319, Val Acc: 0.3711\n",
      "Epoch 19/20, Train Loss: 2.7144, Train Acc: 0.3095, Val Loss: 2.4247, Val Acc: 0.3779\n",
      "Epoch 20/20, Train Loss: 2.7009, Train Acc: 0.3135, Val Loss: 2.4040, Val Acc: 0.3794\n"
     ]
    }
   ],
   "source": [
    "# Train and evaluate the model\n",
    "num_epochs = 20\n",
    "train_losses, train_accuracies = [], []\n",
    "val_losses, val_accuracies = [], []\n",
    "\n",
    "for epoch in range(num_epochs):\n",
    "    train_loss, train_acc = train(model, criterion, optimizer, trainloader, device)\n",
    "    val_loss, val_acc = evaluate(model, criterion, testloader, device)\n",
    "\n",
    "    train_losses.append(train_loss)\n",
    "    train_accuracies.append(train_acc)\n",
    "    val_losses.append(val_loss)\n",
    "    val_accuracies.append(val_acc)\n",
    "\n",
    "    print(f'Epoch {epoch+1}/{num_epochs}, Train Loss: {train_loss:.4f}, Train Acc: {train_acc:.4f}, Val Loss: {val_loss:.4f}, Val Acc: {val_acc:.4f}')\n"
   ]
  },
  {
   "cell_type": "code",
   "execution_count": 15,
   "id": "b9a97c8a-031b-492f-babe-c28f6d3b7ea6",
   "metadata": {},
   "outputs": [
    {
     "data": {
      "image/png": "[encoded data removed]",
      "text/plain": [
       "<Figure size 1200x400 with 2 Axes>"
      ]
     },
     "metadata": {},
     "output_type": "display_data"
    },
    {
     "name": "stdout",
     "output_type": "stream",
     "text": [
      "Test accuracy: 0.3794\n"
     ]
    }
   ],
   "source": [
    "# Plot training & validation accuracy values\n",
    "plt.figure(figsize=(12, 4))\n",
    "plt.subplot(1, 2, 1)\n",
    "plt.plot(train_accuracies, label='Train Accuracy')\n",
    "plt.plot(val_accuracies, label='Validation Accuracy')\n",
    "plt.title('Model accuracy')\n",
    "plt.ylabel('Accuracy')\n",
    "plt.xlabel('Epoch')\n",
    "plt.legend(['Train', 'Validation'], loc='upper left')\n",
    "\n",
    "# Plot training & validation loss values\n",
    "plt.subplot(1, 2, 2)\n",
    "plt.plot(train_losses, label='Train Loss')\n",
    "plt.plot(val_losses, label='Validation Loss')\n",
    "plt.title('Model loss')\n",
    "plt.ylabel('Loss')\n",
    "plt.xlabel('Epoch')\n",
    "plt.legend(['Train', 'Validation'], loc='upper left')\n",
    "\n",
    "plt.show()\n",
    "\n",
    "# Evaluate the model on the test data\n",
    "test_loss, test_acc = evaluate(model, criterion, testloader, device)\n",
    "print(f'Test accuracy: {test_acc}')\n",
    "\n"
   ]
  },
  {
   "cell_type": "code",
   "execution_count": 16,
   "id": "45bd4d65-d734-4bd5-b14d-397f11a44646",
   "metadata": {},
   "outputs": [],
   "source": [
    "# Save the model\n",
    "torch.save(model.state_dict(), 'vgg16_cifar100_finetuned_frozen.pth')"
   ]
  },
  {
   "cell_type": "code",
   "execution_count": null,
   "id": "5bcac0de-a376-47fc-9bc7-9d043280b1ad",
   "metadata": {},
   "outputs": [],
   "source": []
  }
 ],
 "metadata": {
  "kernelspec": {
   "display_name": "Python 3 (ipykernel)",
   "language": "python",
   "name": "python3"
  },
  "language_info": {
   "codemirror_mode": {
    "name": "ipython",
    "version": 3
   },
   "file_extension": ".py",
   "mimetype": "text/x-python",
   "name": "python",
   "nbconvert_exporter": "python",
   "pygments_lexer": "ipython3",
   "version": "3.10.5"
  }
 },
 "nbformat": 4,
 "nbformat_minor": 5
}
